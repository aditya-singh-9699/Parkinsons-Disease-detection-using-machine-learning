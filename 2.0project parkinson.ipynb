{
 "cells": [
  {
   "cell_type": "code",
   "execution_count": 1,
   "metadata": {},
   "outputs": [],
   "source": [
    "import pandas as pd\n",
    "import numpy as np\n",
    "import seaborn as sns\n",
    "import matplotlib.pyplot as plt\n",
    "%matplotlib inline"
   ]
  },
  {
   "cell_type": "code",
   "execution_count": 2,
   "metadata": {},
   "outputs": [],
   "source": [
    "dfo = pd.read_csv(\"parkinsons.data\")"
   ]
  },
  {
   "cell_type": "code",
   "execution_count": 4,
   "metadata": {},
   "outputs": [
    {
     "data": {
      "text/plain": [
       "(195, 24)"
      ]
     },
     "execution_count": 4,
     "metadata": {},
     "output_type": "execute_result"
    }
   ],
   "source": [
    "dfo.shape"
   ]
  },
  {
   "cell_type": "code",
   "execution_count": 6,
   "metadata": {},
   "outputs": [],
   "source": [
    "from sklearn.model_selection import train_test_split"
   ]
  },
  {
   "cell_type": "code",
   "execution_count": 7,
   "metadata": {},
   "outputs": [],
   "source": [
    "X = dfo.drop(['name','status'],axis =1)\n",
    "y = dfo['status']\n",
    "X_train, X_test, y_train, y_test = train_test_split(X, y, test_size=0.33, random_state=101)"
   ]
  },
  {
   "cell_type": "code",
   "execution_count": 8,
   "metadata": {},
   "outputs": [],
   "source": [
    "from sklearn.preprocessing import StandardScaler,MinMaxScaler\n",
    "SS = StandardScaler()\n",
    "MMS = MinMaxScaler()"
   ]
  },
  {
   "cell_type": "code",
   "execution_count": 9,
   "metadata": {},
   "outputs": [],
   "source": [
    "x_train = SS.fit_transform(X_train)\n",
    "x_test = SS.fit_transform(X_test)"
   ]
  },
  {
   "cell_type": "markdown",
   "metadata": {},
   "source": [
    "# USING RANDOM FOREST "
   ]
  },
  {
   "cell_type": "code",
   "execution_count": 10,
   "metadata": {},
   "outputs": [],
   "source": [
    "from sklearn.ensemble import RandomForestClassifier\n",
    "RFC = RandomForestClassifier(n_estimators=105)"
   ]
  },
  {
   "cell_type": "code",
   "execution_count": 11,
   "metadata": {},
   "outputs": [
    {
     "data": {
      "text/plain": [
       "RandomForestClassifier(n_estimators=105)"
      ]
     },
     "execution_count": 11,
     "metadata": {},
     "output_type": "execute_result"
    }
   ],
   "source": [
    "RFC.fit(x_train,y_train)"
   ]
  },
  {
   "cell_type": "code",
   "execution_count": 12,
   "metadata": {},
   "outputs": [],
   "source": [
    "pred = RFC.predict(x_test)"
   ]
  },
  {
   "cell_type": "code",
   "execution_count": 13,
   "metadata": {},
   "outputs": [],
   "source": [
    "from sklearn.metrics import confusion_matrix,classification_report"
   ]
  },
  {
   "cell_type": "code",
   "execution_count": 14,
   "metadata": {},
   "outputs": [
    {
     "name": "stdout",
     "output_type": "stream",
     "text": [
      "[[ 8  9]\n",
      " [ 0 48]]\n"
     ]
    }
   ],
   "source": [
    "print(confusion_matrix(y_test,pred))"
   ]
  },
  {
   "cell_type": "code",
   "execution_count": 15,
   "metadata": {},
   "outputs": [
    {
     "name": "stdout",
     "output_type": "stream",
     "text": [
      "              precision    recall  f1-score   support\n",
      "\n",
      "           0       1.00      0.47      0.64        17\n",
      "           1       0.84      1.00      0.91        48\n",
      "\n",
      "    accuracy                           0.86        65\n",
      "   macro avg       0.92      0.74      0.78        65\n",
      "weighted avg       0.88      0.86      0.84        65\n",
      "\n"
     ]
    }
   ],
   "source": [
    "print(classification_report(y_test,pred))"
   ]
  },
  {
   "cell_type": "code",
   "execution_count": 16,
   "metadata": {},
   "outputs": [
    {
     "data": {
      "text/plain": [
       "0.8615384615384616"
      ]
     },
     "execution_count": 16,
     "metadata": {},
     "output_type": "execute_result"
    }
   ],
   "source": [
    "from sklearn.metrics import accuracy_score\n",
    "accuracy_score(y_test, pred)\n"
   ]
  },
  {
   "cell_type": "markdown",
   "metadata": {},
   "source": [
    "# USING KNN"
   ]
  },
  {
   "cell_type": "code",
   "execution_count": 17,
   "metadata": {},
   "outputs": [],
   "source": [
    "from sklearn.neighbors import KNeighborsClassifier\n",
    "knn = KNeighborsClassifier(n_neighbors=11)"
   ]
  },
  {
   "cell_type": "code",
   "execution_count": 18,
   "metadata": {},
   "outputs": [
    {
     "data": {
      "text/plain": [
       "KNeighborsClassifier(n_neighbors=11)"
      ]
     },
     "execution_count": 18,
     "metadata": {},
     "output_type": "execute_result"
    }
   ],
   "source": [
    "knn.fit(x_train,y_train)"
   ]
  },
  {
   "cell_type": "code",
   "execution_count": 19,
   "metadata": {},
   "outputs": [],
   "source": [
    "#GETTING K VALUE WITH LEAST ERRORS\n",
    "error_rate = []\n",
    "K = []\n",
    "\n",
    "for i in range(1,40):\n",
    "    \n",
    "    knn = KNeighborsClassifier(n_neighbors=i)\n",
    "    knn.fit(x_train,y_train)\n",
    "    pred_i = knn.predict(x_test)\n",
    "    error_rate.append(np.mean(pred_i != y_test))"
   ]
  },
  {
   "cell_type": "code",
   "execution_count": 20,
   "metadata": {},
   "outputs": [
    {
     "data": {
      "text/plain": [
       "[0.1076923076923077,\n",
       " 0.09230769230769231,\n",
       " 0.16923076923076924,\n",
       " 0.15384615384615385,\n",
       " 0.15384615384615385,\n",
       " 0.18461538461538463,\n",
       " 0.13846153846153847,\n",
       " 0.15384615384615385,\n",
       " 0.12307692307692308,\n",
       " 0.13846153846153847,\n",
       " 0.13846153846153847,\n",
       " 0.12307692307692308,\n",
       " 0.16923076923076924,\n",
       " 0.18461538461538463,\n",
       " 0.18461538461538463,\n",
       " 0.18461538461538463,\n",
       " 0.16923076923076924,\n",
       " 0.18461538461538463,\n",
       " 0.18461538461538463,\n",
       " 0.18461538461538463,\n",
       " 0.2,\n",
       " 0.2,\n",
       " 0.2,\n",
       " 0.2,\n",
       " 0.2,\n",
       " 0.2,\n",
       " 0.2,\n",
       " 0.2,\n",
       " 0.2153846153846154,\n",
       " 0.2153846153846154,\n",
       " 0.23076923076923078,\n",
       " 0.23076923076923078,\n",
       " 0.24615384615384617,\n",
       " 0.23076923076923078,\n",
       " 0.26153846153846155,\n",
       " 0.26153846153846155,\n",
       " 0.26153846153846155,\n",
       " 0.26153846153846155,\n",
       " 0.26153846153846155]"
      ]
     },
     "execution_count": 20,
     "metadata": {},
     "output_type": "execute_result"
    }
   ],
   "source": [
    "error_rate"
   ]
  },
  {
   "cell_type": "code",
   "execution_count": 21,
   "metadata": {},
   "outputs": [
    {
     "data": {
      "text/plain": [
       "Text(0, 0.5, 'Error Rate')"
      ]
     },
     "execution_count": 21,
     "metadata": {},
     "output_type": "execute_result"
    },
    {
     "data": {
      "image/png": "[encoded data removed]",
      "text/plain": [
       "<Figure size 720x432 with 1 Axes>"
      ]
     },
     "metadata": {},
     "output_type": "display_data"
    }
   ],
   "source": [
    "sns.set_style('whitegrid')\n",
    "plt.figure(figsize=(10,6))\n",
    "plt.plot(range(1,40),error_rate,color='blue', linestyle='dashed', marker='o',\n",
    "         markerfacecolor='red', markersize=10)\n",
    "plt.title('Error Rate vs. K Value')\n",
    "plt.xlabel('K')\n",
    "plt.ylabel('Error Rate')"
   ]
  },
  {
   "cell_type": "code",
   "execution_count": 22,
   "metadata": {},
   "outputs": [],
   "source": [
    "knn = KNeighborsClassifier(n_neighbors=1)"
   ]
  },
  {
   "cell_type": "code",
   "execution_count": 23,
   "metadata": {},
   "outputs": [
    {
     "data": {
      "text/plain": [
       "KNeighborsClassifier(n_neighbors=1)"
      ]
     },
     "execution_count": 23,
     "metadata": {},
     "output_type": "execute_result"
    }
   ],
   "source": [
    "knn.fit(x_train,y_train)"
   ]
  },
  {
   "cell_type": "code",
   "execution_count": 24,
   "metadata": {},
   "outputs": [],
   "source": [
    "predict = knn.predict(x_test)"
   ]
  },
  {
   "cell_type": "code",
   "execution_count": 25,
   "metadata": {},
   "outputs": [
    {
     "name": "stdout",
     "output_type": "stream",
     "text": [
      "              precision    recall  f1-score   support\n",
      "\n",
      "           0       0.73      0.94      0.82        17\n",
      "           1       0.98      0.88      0.92        48\n",
      "\n",
      "    accuracy                           0.89        65\n",
      "   macro avg       0.85      0.91      0.87        65\n",
      "weighted avg       0.91      0.89      0.90        65\n",
      "\n"
     ]
    }
   ],
   "source": [
    "print(classification_report(y_test,predict))"
   ]
  },
  {
   "cell_type": "code",
   "execution_count": 26,
   "metadata": {},
   "outputs": [
    {
     "data": {
      "text/plain": [
       "0.8923076923076924"
      ]
     },
     "execution_count": 26,
     "metadata": {},
     "output_type": "execute_result"
    }
   ],
   "source": [
    "knn.score(x_test,y_test)"
   ]
  },
  {
   "cell_type": "code",
   "execution_count": 27,
   "metadata": {},
   "outputs": [],
   "source": [
    "knn = KNeighborsClassifier(n_neighbors=2)\n",
    "\n",
    "knn.fit(x_train,y_train)\n",
    "pred = knn.predict(x_test)"
   ]
  },
  {
   "cell_type": "code",
   "execution_count": 28,
   "metadata": {
    "scrolled": true
   },
   "outputs": [
    {
     "name": "stdout",
     "output_type": "stream",
     "text": [
      "              precision    recall  f1-score   support\n",
      "\n",
      "           0       0.74      1.00      0.85        17\n",
      "           1       1.00      0.88      0.93        48\n",
      "\n",
      "    accuracy                           0.91        65\n",
      "   macro avg       0.87      0.94      0.89        65\n",
      "weighted avg       0.93      0.91      0.91        65\n",
      "\n"
     ]
    }
   ],
   "source": [
    "print(classification_report(y_test,pred))"
   ]
  },
  {
   "cell_type": "code",
   "execution_count": 29,
   "metadata": {},
   "outputs": [
    {
     "data": {
      "text/plain": [
       "0.9076923076923077"
      ]
     },
     "execution_count": 29,
     "metadata": {},
     "output_type": "execute_result"
    }
   ],
   "source": [
    "knn.score(x_test,y_test)"
   ]
  },
  {
   "cell_type": "markdown",
   "metadata": {},
   "source": [
    "# USING LOGISTIC REGRESSION"
   ]
  },
  {
   "cell_type": "code",
   "execution_count": 30,
   "metadata": {},
   "outputs": [],
   "source": [
    "from sklearn.linear_model import LogisticRegression\n",
    "LR = LogisticRegression()"
   ]
  },
  {
   "cell_type": "code",
   "execution_count": 31,
   "metadata": {},
   "outputs": [
    {
     "data": {
      "text/plain": [
       "LogisticRegression()"
      ]
     },
     "execution_count": 31,
     "metadata": {},
     "output_type": "execute_result"
    }
   ],
   "source": [
    "LR.fit(x_train,y_train)"
   ]
  },
  {
   "cell_type": "code",
   "execution_count": 32,
   "metadata": {},
   "outputs": [],
   "source": [
    "pred1 = LR.predict(x_test)"
   ]
  },
  {
   "cell_type": "code",
   "execution_count": 33,
   "metadata": {},
   "outputs": [
    {
     "data": {
      "text/plain": [
       "array([1, 1, 0, 0, 1, 1, 1, 0, 0, 1, 1, 1, 1, 1, 1, 1, 1, 1, 1, 1, 0, 0,\n",
       "       1, 1, 1, 0, 1, 0, 1, 0, 1, 1, 0, 1, 1, 1, 1, 1, 1, 1, 1, 0, 1, 1,\n",
       "       1, 1, 0, 1, 1, 1, 1, 0, 0, 1, 1, 1, 1, 1, 1, 1, 1, 1, 1, 1, 1],\n",
       "      dtype=int64)"
      ]
     },
     "execution_count": 33,
     "metadata": {},
     "output_type": "execute_result"
    }
   ],
   "source": [
    "pred1"
   ]
  },
  {
   "cell_type": "code",
   "execution_count": 34,
   "metadata": {},
   "outputs": [
    {
     "data": {
      "text/plain": [
       "array([[ 0.51263844, -0.09795882,  0.92780154, ...,  0.5567087 ,\n",
       "         0.03147182, -0.39383713],\n",
       "       [-1.20339893, -0.81139782, -0.61678308, ..., -0.46547203,\n",
       "        -1.26213644,  0.2073963 ],\n",
       "       [ 1.3216278 ,  0.2722459 , -0.59351855, ..., -1.69369456,\n",
       "        -0.12300943, -1.11650354],\n",
       "       ...,\n",
       "       [-1.02340152, -0.86225894, -0.45022788, ..., -0.32734624,\n",
       "        -0.66177624, -0.12772199],\n",
       "       [ 1.32153699,  0.52352223, -0.81912514, ...,  1.53338771,\n",
       "         1.19168218,  0.4455287 ],\n",
       "       [-0.29580604, -0.51049226, -1.04505911, ..., -0.60728783,\n",
       "        -0.7346092 , -0.39246474]])"
      ]
     },
     "execution_count": 34,
     "metadata": {},
     "output_type": "execute_result"
    }
   ],
   "source": [
    "x_test"
   ]
  },
  {
   "cell_type": "code",
   "execution_count": 35,
   "metadata": {},
   "outputs": [
    {
     "name": "stdout",
     "output_type": "stream",
     "text": [
      "              precision    recall  f1-score   support\n",
      "\n",
      "           0       0.86      0.71      0.77        17\n",
      "           1       0.90      0.96      0.93        48\n",
      "\n",
      "    accuracy                           0.89        65\n",
      "   macro avg       0.88      0.83      0.85        65\n",
      "weighted avg       0.89      0.89      0.89        65\n",
      "\n"
     ]
    }
   ],
   "source": [
    "print(classification_report(y_test,pred1))"
   ]
  },
  {
   "cell_type": "code",
   "execution_count": 36,
   "metadata": {},
   "outputs": [
    {
     "data": {
      "text/plain": [
       "0.8923076923076924"
      ]
     },
     "execution_count": 36,
     "metadata": {},
     "output_type": "execute_result"
    }
   ],
   "source": [
    "LR.score(x_test,y_test)"
   ]
  },
  {
   "cell_type": "code",
   "execution_count": 37,
   "metadata": {},
   "outputs": [
    {
     "data": {
      "text/plain": [
       "0.8923076923076924"
      ]
     },
     "execution_count": 37,
     "metadata": {},
     "output_type": "execute_result"
    }
   ],
   "source": [
    "from sklearn.metrics import accuracy_score\n",
    "accuracy_score(y_test, pred1)\n"
   ]
  },
  {
   "cell_type": "code",
   "execution_count": null,
   "metadata": {},
   "outputs": [],
   "source": []
  },
  {
   "cell_type": "code",
   "execution_count": null,
   "metadata": {},
   "outputs": [],
   "source": []
  },
  {
   "cell_type": "code",
   "execution_count": null,
   "metadata": {},
   "outputs": [],
   "source": []
  },
  {
   "cell_type": "code",
   "execution_count": null,
   "metadata": {},
   "outputs": [],
   "source": []
  },
  {
   "cell_type": "code",
   "execution_count": null,
   "metadata": {},
   "outputs": [],
   "source": []
  },
  {
   "cell_type": "code",
   "execution_count": null,
   "metadata": {},
   "outputs": [],
   "source": []
  },
  {
   "cell_type": "code",
   "execution_count": null,
   "metadata": {},
   "outputs": [],
   "source": []
  },
  {
   "cell_type": "markdown",
   "metadata": {},
   "source": [
    "# RUN TIME PREDICTIONS"
   ]
  },
  {
   "cell_type": "code",
   "execution_count": 38,
   "metadata": {},
   "outputs": [],
   "source": [
    "import glob\n",
    "import numpy as np\n",
    "import pandas as pd\n",
    "import parselmouth\n",
    "from parselmouth.praat import call\n",
    "from sklearn.decomposition import PCA\n",
    "from sklearn.preprocessing import StandardScaler\n",
    "# This is the function to measure voice pitch\n",
    "def measurePitch(voiceID, f0min, f0max, unit):\n",
    "    sound = parselmouth.Sound(voiceID) # read the sound\n",
    "    pitch = call(sound, \"To Pitch\", 0.0, f0min, f0max) #create a praat pitch object\n",
    "    meanF0 = call(pitch, \"Get mean\", 0, 0, unit) # get mean pitch\n",
    "    stdevF0 = call(pitch, \"Get standard deviation\", 0 ,0, unit) # get standard deviation\n",
    "    harmonicity = call(sound, \"To Harmonicity (cc)\", 0.01, 75, 0.1, 1.0)\n",
    "    hnr = call(harmonicity, \"Get mean\", 0, 0)\n",
    "    pointProcess = call(sound, \"To PointProcess (periodic, cc)\", f0min, f0max)\n",
    "    localJitter = call(pointProcess, \"Get jitter (local)\", 0, 0, 0.0001, 0.02, 1.3)\n",
    "    localabsoluteJitter = call(pointProcess, \"Get jitter (local, absolute)\", 0, 0, 0.0001, 0.02, 1.3)\n",
    "    rapJitter = call(pointProcess, \"Get jitter (rap)\", 0, 0, 0.0001, 0.02, 1.3)\n",
    "    ppq5Jitter = call(pointProcess, \"Get jitter (ppq5)\", 0, 0, 0.0001, 0.02, 1.3)\n",
    "    ddpJitter = call(pointProcess, \"Get jitter (ddp)\", 0, 0, 0.0001, 0.02, 1.3)\n",
    "    localShimmer =  call([sound, pointProcess], \"Get shimmer (local)\", 0, 0, 0.0001, 0.02, 1.3, 1.6)\n",
    "    localdbShimmer = call([sound, pointProcess], \"Get shimmer (local_dB)\", 0, 0, 0.0001, 0.02, 1.3, 1.6)\n",
    "    apq3Shimmer = call([sound, pointProcess], \"Get shimmer (apq3)\", 0, 0, 0.0001, 0.02, 1.3, 1.6)\n",
    "    aqpq5Shimmer = call([sound, pointProcess], \"Get shimmer (apq5)\", 0, 0, 0.0001, 0.02, 1.3, 1.6)\n",
    "    apq11Shimmer =  call([sound, pointProcess], \"Get shimmer (apq11)\", 0, 0, 0.0001, 0.02, 1.3, 1.6)\n",
    "    ddaShimmer = call([sound, pointProcess], \"Get shimmer (dda)\", 0, 0, 0.0001, 0.02, 1.3, 1.6)\n",
    "    \n",
    "\n",
    "    return meanF0, stdevF0, hnr, localJitter, localabsoluteJitter, rapJitter, ppq5Jitter, ddpJitter, localShimmer, localdbShimmer, apq3Shimmer, aqpq5Shimmer, apq11Shimmer, ddaShimmer\n",
    "def runPCA(df):\n",
    "    #Z-score the Jitter and Shimmer measurements\n",
    "    features = ['localJitter', 'localabsoluteJitter', 'rapJitter', 'ppq5Jitter', 'ddpJitter',\n",
    "                'localShimmer', 'localdbShimmer', 'apq3Shimmer', 'apq5Shimmer', 'apq11Shimmer', 'ddaShimmer']\n",
    "    # Separating out the features\n",
    "    x = df.loc[:, features].values\n",
    "    # Separating out the target\n",
    "    #y = df.loc[:,['target']].values\n",
    "    # Standardizing the features\n",
    "    x = StandardScaler().fit_transform(x)\n",
    "    #PCA\n",
    "    pca = PCA(n_components=2)\n",
    "    principalComponents = pca.fit_transform(x)\n",
    "    principalDf = pd.DataFrame(data = principalComponents, columns = ['JitterPCA', 'ShimmerPCA'])\n",
    "    principalDf\n",
    "    return principalDf\n",
    "# create lists to put the results\n",
    "file_list = []\n",
    "mean_F0_list = []\n",
    "sd_F0_list = []\n",
    "hnr_list = []\n",
    "localJitter_list = []\n",
    "localabsoluteJitter_list = []\n",
    "rapJitter_list = []\n",
    "ppq5Jitter_list = []\n",
    "ddpJitter_list = []\n",
    "localShimmer_list = []\n",
    "localdbShimmer_list = []\n",
    "apq3Shimmer_list = []\n",
    "aqpq5Shimmer_list = []\n",
    "apq11Shimmer_list = []\n",
    "ddaShimmer_list = []\n",
    "\n",
    "# Go through all the wave files in the folder and measure pitch\n",
    "for wave_file in glob.glob(\"audio/*.wav\"):\n",
    "    sound = parselmouth.Sound(wave_file)\n",
    "    (meanF0, stdevF0, hnr, localJitter, localabsoluteJitter, rapJitter, ppq5Jitter, ddpJitter, localShimmer, localdbShimmer, apq3Shimmer, aqpq5Shimmer, apq11Shimmer, ddaShimmer) = measurePitch(sound, 75, 500, \"Hertz\")\n",
    "    file_list.append(wave_file) # make an ID list\n",
    "    mean_F0_list.append(meanF0) # make a mean F0 list\n",
    "    sd_F0_list.append(stdevF0) # make a sd F0 list\n",
    "    hnr_list.append(hnr)\n",
    "    localJitter_list.append(localJitter)\n",
    "    localabsoluteJitter_list.append(localabsoluteJitter)\n",
    "    rapJitter_list.append(rapJitter)\n",
    "    ppq5Jitter_list.append(ppq5Jitter)\n",
    "    ddpJitter_list.append(ddpJitter)\n",
    "    localShimmer_list.append(localShimmer)\n",
    "    localdbShimmer_list.append(localdbShimmer)\n",
    "    apq3Shimmer_list.append(apq3Shimmer)\n",
    "    aqpq5Shimmer_list.append(aqpq5Shimmer)\n",
    "    apq11Shimmer_list.append(apq11Shimmer)\n",
    "    ddaShimmer_list.append(ddaShimmer)\n",
    "df = pd.DataFrame(np.column_stack([file_list, mean_F0_list, sd_F0_list, hnr_list, localJitter_list, localabsoluteJitter_list, rapJitter_list, ppq5Jitter_list, ddpJitter_list, localShimmer_list, localdbShimmer_list, apq3Shimmer_list, aqpq5Shimmer_list, apq11Shimmer_list, ddaShimmer_list]),\n",
    "                               columns=['voiceID', 'meanF0Hz', 'stdevF0Hz', 'HNR', 'localJitter', 'localabsoluteJitter', 'rapJitter', \n",
    "                                        'ppq5Jitter', 'ddpJitter', 'localShimmer', 'localdbShimmer', 'apq3Shimmer', 'apq5Shimmer', \n",
    "                                        'apq11Shimmer', 'ddaShimmer'])  #add these lists to pandas in the right order\n",
    "pcaData = runPCA(df)\n",
    "\n",
    "df = pd.concat([df, pcaData], axis=1)\n",
    "\n",
    "# Write out the updated dataframe\n",
    "df.to_csv(\"processed_results.csv\", index=False)"
   ]
  },
  {
   "cell_type": "code",
   "execution_count": 39,
   "metadata": {},
   "outputs": [
    {
     "data": {
      "text/html": [
       "<div>\n",
       "<style scoped>\n",
       "    .dataframe tbody tr th:only-of-type {\n",
       "        vertical-align: middle;\n",
       "    }\n",
       "\n",
       "    .dataframe tbody tr th {\n",
       "        vertical-align: top;\n",
       "    }\n",
       "\n",
       "    .dataframe thead th {\n",
       "        text-align: right;\n",
       "    }\n",
       "</style>\n",
       "<table border=\"1\" class=\"dataframe\">\n",
       "  <thead>\n",
       "    <tr style=\"text-align: right;\">\n",
       "      <th></th>\n",
       "      <th>MDVP:Fo(Hz)</th>\n",
       "      <th>MDVP:Fhi(Hz)</th>\n",
       "      <th>MDVP:Flo(Hz)</th>\n",
       "      <th>MDVP:Jitter(%)</th>\n",
       "      <th>MDVP:Jitter(Abs)</th>\n",
       "      <th>MDVP:RAP</th>\n",
       "      <th>MDVP:PPQ</th>\n",
       "      <th>Jitter:DDP</th>\n",
       "      <th>MDVP:Shimmer</th>\n",
       "      <th>MDVP:Shimmer(dB)</th>\n",
       "      <th>...</th>\n",
       "      <th>MDVP:APQ</th>\n",
       "      <th>Shimmer:DDA</th>\n",
       "      <th>NHR</th>\n",
       "      <th>HNR</th>\n",
       "      <th>RPDE</th>\n",
       "      <th>DFA</th>\n",
       "      <th>spread1</th>\n",
       "      <th>spread2</th>\n",
       "      <th>D2</th>\n",
       "      <th>PPE</th>\n",
       "    </tr>\n",
       "  </thead>\n",
       "  <tbody>\n",
       "    <tr>\n",
       "      <th>0</th>\n",
       "      <td>113.77680569854286</td>\n",
       "      <td>197.104918</td>\n",
       "      <td>116.324631</td>\n",
       "      <td>0.0014213010729582554</td>\n",
       "      <td>0.000044</td>\n",
       "      <td>0.0007095201587491845</td>\n",
       "      <td>0.0007645157141077805</td>\n",
       "      <td>0.0021285604762475534</td>\n",
       "      <td>0.01787710274672177</td>\n",
       "      <td>0.18570177149979147</td>\n",
       "      <td>...</td>\n",
       "      <td>0.010494519667844397</td>\n",
       "      <td>0.024824846485704</td>\n",
       "      <td>0.024847</td>\n",
       "      <td>26.253282681105546</td>\n",
       "      <td>0.498536</td>\n",
       "      <td>0.718099</td>\n",
       "      <td>-5.684397</td>\n",
       "      <td>0.22651</td>\n",
       "      <td>2.381826</td>\n",
       "      <td>0.206552</td>\n",
       "    </tr>\n",
       "    <tr>\n",
       "      <th>1</th>\n",
       "      <td>201.9450715201333</td>\n",
       "      <td>197.104918</td>\n",
       "      <td>116.324631</td>\n",
       "      <td>0.004846807759666541</td>\n",
       "      <td>0.000044</td>\n",
       "      <td>0.0025087786720272213</td>\n",
       "      <td>0.0028426664008764234</td>\n",
       "      <td>0.007526336016081664</td>\n",
       "      <td>0.022721092224691205</td>\n",
       "      <td>0.36600462278007695</td>\n",
       "      <td>...</td>\n",
       "      <td>0.013795520522786762</td>\n",
       "      <td>0.03203357481892713</td>\n",
       "      <td>0.024847</td>\n",
       "      <td>26.031128910959396</td>\n",
       "      <td>0.498536</td>\n",
       "      <td>0.718099</td>\n",
       "      <td>-5.684397</td>\n",
       "      <td>0.22651</td>\n",
       "      <td>2.381826</td>\n",
       "      <td>0.206552</td>\n",
       "    </tr>\n",
       "    <tr>\n",
       "      <th>2</th>\n",
       "      <td>111.15389977177607</td>\n",
       "      <td>197.104918</td>\n",
       "      <td>116.324631</td>\n",
       "      <td>0.0019680369258500167</td>\n",
       "      <td>0.000044</td>\n",
       "      <td>0.0010017621778934044</td>\n",
       "      <td>0.0010133799253859255</td>\n",
       "      <td>0.003005286533680213</td>\n",
       "      <td>0.02355521562933281</td>\n",
       "      <td>0.2545799985847508</td>\n",
       "      <td>...</td>\n",
       "      <td>0.013344669375701744</td>\n",
       "      <td>0.030945423592674284</td>\n",
       "      <td>0.024847</td>\n",
       "      <td>24.00527628479194</td>\n",
       "      <td>0.498536</td>\n",
       "      <td>0.718099</td>\n",
       "      <td>-5.684397</td>\n",
       "      <td>0.22651</td>\n",
       "      <td>2.381826</td>\n",
       "      <td>0.206552</td>\n",
       "    </tr>\n",
       "    <tr>\n",
       "      <th>3</th>\n",
       "      <td>212.09857905298142</td>\n",
       "      <td>197.104918</td>\n",
       "      <td>116.324631</td>\n",
       "      <td>0.0031189223175170765</td>\n",
       "      <td>0.000044</td>\n",
       "      <td>0.0016619598167540847</td>\n",
       "      <td>0.0018064149400136825</td>\n",
       "      <td>0.004985879450262254</td>\n",
       "      <td>0.02274186063234924</td>\n",
       "      <td>0.2997183985920759</td>\n",
       "      <td>...</td>\n",
       "      <td>0.013489414940305162</td>\n",
       "      <td>0.03154149270422726</td>\n",
       "      <td>0.024847</td>\n",
       "      <td>25.166883394289275</td>\n",
       "      <td>0.498536</td>\n",
       "      <td>0.718099</td>\n",
       "      <td>-5.684397</td>\n",
       "      <td>0.22651</td>\n",
       "      <td>2.381826</td>\n",
       "      <td>0.206552</td>\n",
       "    </tr>\n",
       "    <tr>\n",
       "      <th>4</th>\n",
       "      <td>232.57400286508445</td>\n",
       "      <td>197.104918</td>\n",
       "      <td>116.324631</td>\n",
       "      <td>0.0020022482298386506</td>\n",
       "      <td>0.000044</td>\n",
       "      <td>0.001116431883016024</td>\n",
       "      <td>0.0009879185883070157</td>\n",
       "      <td>0.0033492956490480718</td>\n",
       "      <td>0.05132873380984592</td>\n",
       "      <td>0.5148010803409152</td>\n",
       "      <td>...</td>\n",
       "      <td>0.04205492598653385</td>\n",
       "      <td>0.07777413467916469</td>\n",
       "      <td>0.024847</td>\n",
       "      <td>19.77851984358422</td>\n",
       "      <td>0.498536</td>\n",
       "      <td>0.718099</td>\n",
       "      <td>-5.684397</td>\n",
       "      <td>0.22651</td>\n",
       "      <td>2.381826</td>\n",
       "      <td>0.206552</td>\n",
       "    </tr>\n",
       "  </tbody>\n",
       "</table>\n",
       "<p>5 rows × 22 columns</p>\n",
       "</div>"
      ],
      "text/plain": [
       "          MDVP:Fo(Hz)  MDVP:Fhi(Hz)  MDVP:Flo(Hz)         MDVP:Jitter(%)  \\\n",
       "0  113.77680569854286    197.104918    116.324631  0.0014213010729582554   \n",
       "1   201.9450715201333    197.104918    116.324631   0.004846807759666541   \n",
       "2  111.15389977177607    197.104918    116.324631  0.0019680369258500167   \n",
       "3  212.09857905298142    197.104918    116.324631  0.0031189223175170765   \n",
       "4  232.57400286508445    197.104918    116.324631  0.0020022482298386506   \n",
       "\n",
       "   MDVP:Jitter(Abs)               MDVP:RAP               MDVP:PPQ  \\\n",
       "0          0.000044  0.0007095201587491845  0.0007645157141077805   \n",
       "1          0.000044  0.0025087786720272213  0.0028426664008764234   \n",
       "2          0.000044  0.0010017621778934044  0.0010133799253859255   \n",
       "3          0.000044  0.0016619598167540847  0.0018064149400136825   \n",
       "4          0.000044   0.001116431883016024  0.0009879185883070157   \n",
       "\n",
       "              Jitter:DDP          MDVP:Shimmer     MDVP:Shimmer(dB)  ...  \\\n",
       "0  0.0021285604762475534   0.01787710274672177  0.18570177149979147  ...   \n",
       "1   0.007526336016081664  0.022721092224691205  0.36600462278007695  ...   \n",
       "2   0.003005286533680213   0.02355521562933281   0.2545799985847508  ...   \n",
       "3   0.004985879450262254   0.02274186063234924   0.2997183985920759  ...   \n",
       "4  0.0033492956490480718   0.05132873380984592   0.5148010803409152  ...   \n",
       "\n",
       "               MDVP:APQ           Shimmer:DDA       NHR                 HNR  \\\n",
       "0  0.010494519667844397     0.024824846485704  0.024847  26.253282681105546   \n",
       "1  0.013795520522786762   0.03203357481892713  0.024847  26.031128910959396   \n",
       "2  0.013344669375701744  0.030945423592674284  0.024847   24.00527628479194   \n",
       "3  0.013489414940305162   0.03154149270422726  0.024847  25.166883394289275   \n",
       "4   0.04205492598653385   0.07777413467916469  0.024847   19.77851984358422   \n",
       "\n",
       "       RPDE       DFA   spread1  spread2        D2       PPE  \n",
       "0  0.498536  0.718099 -5.684397  0.22651  2.381826  0.206552  \n",
       "1  0.498536  0.718099 -5.684397  0.22651  2.381826  0.206552  \n",
       "2  0.498536  0.718099 -5.684397  0.22651  2.381826  0.206552  \n",
       "3  0.498536  0.718099 -5.684397  0.22651  2.381826  0.206552  \n",
       "4  0.498536  0.718099 -5.684397  0.22651  2.381826  0.206552  \n",
       "\n",
       "[5 rows x 22 columns]"
      ]
     },
     "execution_count": 39,
     "metadata": {},
     "output_type": "execute_result"
    }
   ],
   "source": [
    "data_p={'MDVP:Fo(Hz)':list(df['meanF0Hz']),'MDVP:Fhi(Hz)':[dfo['MDVP:Fhi(Hz)'].mean()]*len(df),'MDVP:Flo(Hz)':[dfo['MDVP:Flo(Hz)'].mean()]*len(df),'MDVP:Jitter(%)':list(df['localJitter']),\n",
    "'MDVP:Jitter(Abs)':[dfo['MDVP:Jitter(Abs)'].mean()]*len(df),'MDVP:RAP':list(df['rapJitter']),'MDVP:PPQ':list(df['ppq5Jitter']),'Jitter:DDP':list(df['ddpJitter']),\n",
    "'MDVP:Shimmer':list(df['localShimmer']),'MDVP:Shimmer(dB)':list(df['localdbShimmer']),'Shimmer:APQ3':list(df['apq3Shimmer']),'Shimmer:APQ5':list(df['apq5Shimmer']),\n",
    "'MDVP:APQ':list(df['apq11Shimmer']),'Shimmer:DDA':list(df['ddaShimmer']),'NHR':[dfo['NHR'].mean()]*len(df),\n",
    "'HNR':list(df['HNR']),'RPDE':[dfo['RPDE'].mean()]*len(df),'DFA':[dfo['DFA'].mean()]*len(df),'spread1':[dfo['spread1'].mean()]*len(df),\n",
    "'spread2':[dfo['spread2'].mean()]*len(df),'D2':[dfo['D2'].mean()]*len(df),'PPE':[dfo['PPE'].mean()]*len(df)}\n",
    "dfsample = pd.DataFrame.from_dict(data_p)\n",
    "dfsample.head()"
   ]
  },
  {
   "cell_type": "code",
   "execution_count": 40,
   "metadata": {},
   "outputs": [
    {
     "data": {
      "text/plain": [
       "MDVP:Fo(Hz)          object\n",
       "MDVP:Fhi(Hz)        float64\n",
       "MDVP:Flo(Hz)        float64\n",
       "MDVP:Jitter(%)       object\n",
       "MDVP:Jitter(Abs)    float64\n",
       "MDVP:RAP             object\n",
       "MDVP:PPQ             object\n",
       "Jitter:DDP           object\n",
       "MDVP:Shimmer         object\n",
       "MDVP:Shimmer(dB)     object\n",
       "Shimmer:APQ3         object\n",
       "Shimmer:APQ5         object\n",
       "MDVP:APQ             object\n",
       "Shimmer:DDA          object\n",
       "NHR                 float64\n",
       "HNR                  object\n",
       "RPDE                float64\n",
       "DFA                 float64\n",
       "spread1             float64\n",
       "spread2             float64\n",
       "D2                  float64\n",
       "PPE                 float64\n",
       "dtype: object"
      ]
     },
     "execution_count": 40,
     "metadata": {},
     "output_type": "execute_result"
    }
   ],
   "source": [
    "dfsample.dtypes"
   ]
  },
  {
   "cell_type": "code",
   "execution_count": 41,
   "metadata": {},
   "outputs": [],
   "source": [
    "pred1 = LR.predict(dfsample)"
   ]
  },
  {
   "cell_type": "code",
   "execution_count": 42,
   "metadata": {},
   "outputs": [
    {
     "data": {
      "text/plain": [
       "array([0, 0, 0, 0, 0, 0], dtype=int64)"
      ]
     },
     "execution_count": 42,
     "metadata": {},
     "output_type": "execute_result"
    }
   ],
   "source": [
    "pred1"
   ]
  },
  {
   "cell_type": "code",
   "execution_count": 43,
   "metadata": {},
   "outputs": [
    {
     "name": "stdout",
     "output_type": "stream",
     "text": [
      " not parkinson\n",
      " not parkinson\n",
      " not parkinson\n",
      " not parkinson\n",
      " not parkinson\n",
      " not parkinson\n"
     ]
    }
   ],
   "source": [
    "for t in pred1:#our output at runtime\n",
    "    if t==0:\n",
    "        print(' not parkinson')\n",
    "    else:\n",
    "        print('parkinson')"
   ]
  },
  {
   "cell_type": "markdown",
   "metadata": {},
   "source": []
  }
 ],
 "metadata": {
  "kernelspec": {
   "display_name": "Python 3",
   "language": "python",
   "name": "python3"
  },
  "language_info": {
   "codemirror_mode": {
    "name": "ipython",
    "version": 3
   },
   "file_extension": ".py",
   "mimetype": "text/x-python",
   "name": "python",
   "nbconvert_exporter": "python",
   "pygments_lexer": "ipython3",
   "version": "3.7.6"
  }
 },
 "nbformat": 4,
 "nbformat_minor": 4
}
