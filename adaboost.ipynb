{
 "cells": [
  {
   "cell_type": "code",
   "execution_count": 13,
   "id": "9343852e",
   "metadata": {},
   "outputs": [],
   "source": [
    "from sklearn import datasets\n",
    "import xgboost as xgb\n",
    "import pandas as pd\n",
    "import numpy as np\n",
    "data = pd.read_csv(\"parkinsons.data\")"
   ]
  },
  {
   "cell_type": "code",
   "execution_count": 14,
   "id": "8bf12b77",
   "metadata": {},
   "outputs": [],
   "source": [
    "cols = list(data)\n",
    "cols.insert(24, cols.pop(cols.index('status')))\n",
    "data = data.loc[:, cols]\n"
   ]
  },
  {
   "cell_type": "code",
   "execution_count": 15,
   "id": "d21b4a83",
   "metadata": {},
   "outputs": [],
   "source": [
    "X,y = data.iloc[:,1:-1],data.iloc[:,-1]"
   ]
  },
  {
   "cell_type": "code",
   "execution_count": 16,
   "id": "a91b814f",
   "metadata": {},
   "outputs": [],
   "source": [
    "from sklearn.model_selection import train_test_split\n",
    "X_train, X_test,y_train,y_test = train_test_split(X,y,test_size=0.2,random_state=43)"
   ]
  },
  {
   "cell_type": "code",
   "execution_count": 17,
   "id": "a6d70a56",
   "metadata": {},
   "outputs": [],
   "source": [
    "from sklearn.ensemble import AdaBoostRegressor\n",
    "from sklearn.tree import DecisionTreeRegressor"
   ]
  },
  {
   "cell_type": "code",
   "execution_count": 18,
   "id": "7faa0c1d",
   "metadata": {},
   "outputs": [],
   "source": [
    "DTR=DecisionTreeRegressor(max_depth=1)\n",
    "RegModel = AdaBoostRegressor(n_estimators=50, base_estimator=DTR ,learning_rate=1)"
   ]
  },
  {
   "cell_type": "code",
   "execution_count": 19,
   "id": "20f5c2c5",
   "metadata": {},
   "outputs": [
    {
     "name": "stdout",
     "output_type": "stream",
     "text": [
      "AdaBoostRegressor(base_estimator=DecisionTreeRegressor(max_depth=1),\n",
      "                  learning_rate=1)\n"
     ]
    }
   ],
   "source": [
    "print(RegModel)"
   ]
  },
  {
   "cell_type": "code",
   "execution_count": 20,
   "id": "eac48dad",
   "metadata": {},
   "outputs": [],
   "source": [
    "AB=RegModel.fit(X_train,y_train)\n",
    "prediction=AB.predict(X_test)"
   ]
  },
  {
   "cell_type": "code",
   "execution_count": 21,
   "id": "a1e38b6a",
   "metadata": {},
   "outputs": [
    {
     "name": "stdout",
     "output_type": "stream",
     "text": [
      "R2 Value: 0.42452874817777186\n"
     ]
    }
   ],
   "source": [
    "from sklearn import metrics\n",
    "print('R2 Value:',metrics.r2_score(y_train, AB.predict(X_train)))"
   ]
  },
  {
   "cell_type": "code",
   "execution_count": 22,
   "id": "cc06dc5a",
   "metadata": {},
   "outputs": [
    {
     "name": "stdout",
     "output_type": "stream",
     "text": [
      "Accuracy -inf\n"
     ]
    }
   ],
   "source": [
    "print('Accuracy',100- (np.mean(np.abs((y_test - prediction) / y_test)) * 100))"
   ]
  },
  {
   "cell_type": "code",
   "execution_count": null,
   "id": "93351d70",
   "metadata": {},
   "outputs": [],
   "source": []
  }
 ],
 "metadata": {
  "kernelspec": {
   "display_name": "Python 3 (ipykernel)",
   "language": "python",
   "name": "python3"
  },
  "language_info": {
   "codemirror_mode": {
    "name": "ipython",
    "version": 3
   },
   "file_extension": ".py",
   "mimetype": "text/x-python",
   "name": "python",
   "nbconvert_exporter": "python",
   "pygments_lexer": "ipython3",
   "version": "3.9.6"
  }
 },
 "nbformat": 4,
 "nbformat_minor": 5
}
