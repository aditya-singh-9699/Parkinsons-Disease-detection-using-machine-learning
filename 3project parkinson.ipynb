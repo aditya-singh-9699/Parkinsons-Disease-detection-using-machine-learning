{
 "cells": [
  {
   "cell_type": "code",
   "execution_count": 1,
   "metadata": {},
   "outputs": [],
   "source": [
    "import pandas as pd\n",
    "dfo=pd.read_csv('parkinsons.data')\n",
    "cols = list(dfo)\n",
    "cols.insert(24, cols.pop(cols.index('status')))\n",
    "dfo = dfo.loc[:, cols]"
   ]
  },
  {
   "cell_type": "markdown",
   "metadata": {},
   "source": [
    "# Xgboost regressor"
   ]
  },
  {
   "cell_type": "code",
   "execution_count": 3,
   "metadata": {},
   "outputs": [],
   "source": [
    "import xgboost as xgb\n",
    "import pandas as pd\n",
    "import numpy as np\n",
    "X,y = dfo.iloc[:,1:-1],dfo.iloc[:,-1]"
   ]
  },
  {
   "cell_type": "code",
   "execution_count": 4,
   "metadata": {},
   "outputs": [],
   "source": [
    "\n",
    "from sklearn.model_selection import train_test_split\n",
    "\n",
    "X_train, X_test, y_train, y_test = train_test_split(X, y, test_size=0.2, random_state=43)"
   ]
  },
  {
   "cell_type": "code",
   "execution_count": 4,
   "metadata": {},
   "outputs": [],
   "source": [
    "xg_reg = xgb.XGBRegressor(objective ='binary:hinge', colsample_bytree = 0.3, learning_rate = 0.3,\n",
    "                max_depth = 5, alpha = 10, n_estimators = 10) #learning_rate = 0.1"
   ]
  },
  {
   "cell_type": "code",
   "execution_count": 5,
   "metadata": {},
   "outputs": [],
   "source": [
    "xg_reg.fit(X_train,y_train)\n",
    "\n",
    "preds = xg_reg.predict(X_test)"
   ]
  },
  {
   "cell_type": "code",
   "execution_count": 6,
   "metadata": {},
   "outputs": [
    {
     "data": {
      "text/html": [
       "<div>\n",
       "<style scoped>\n",
       "    .dataframe tbody tr th:only-of-type {\n",
       "        vertical-align: middle;\n",
       "    }\n",
       "\n",
       "    .dataframe tbody tr th {\n",
       "        vertical-align: top;\n",
       "    }\n",
       "\n",
       "    .dataframe thead th {\n",
       "        text-align: right;\n",
       "    }\n",
       "</style>\n",
       "<table border=\"1\" class=\"dataframe\">\n",
       "  <thead>\n",
       "    <tr style=\"text-align: right;\">\n",
       "      <th></th>\n",
       "      <th>MDVP:Fo(Hz)</th>\n",
       "      <th>MDVP:Fhi(Hz)</th>\n",
       "      <th>MDVP:Flo(Hz)</th>\n",
       "      <th>MDVP:Jitter(%)</th>\n",
       "      <th>MDVP:Jitter(Abs)</th>\n",
       "      <th>MDVP:RAP</th>\n",
       "      <th>MDVP:PPQ</th>\n",
       "      <th>Jitter:DDP</th>\n",
       "      <th>MDVP:Shimmer</th>\n",
       "      <th>MDVP:Shimmer(dB)</th>\n",
       "      <th>...</th>\n",
       "      <th>MDVP:APQ</th>\n",
       "      <th>Shimmer:DDA</th>\n",
       "      <th>NHR</th>\n",
       "      <th>HNR</th>\n",
       "      <th>RPDE</th>\n",
       "      <th>DFA</th>\n",
       "      <th>spread1</th>\n",
       "      <th>spread2</th>\n",
       "      <th>D2</th>\n",
       "      <th>PPE</th>\n",
       "    </tr>\n",
       "  </thead>\n",
       "  <tbody>\n",
       "    <tr>\n",
       "      <th>56</th>\n",
       "      <td>110.417</td>\n",
       "      <td>131.067</td>\n",
       "      <td>103.370</td>\n",
       "      <td>0.00784</td>\n",
       "      <td>0.00007</td>\n",
       "      <td>0.00352</td>\n",
       "      <td>0.00514</td>\n",
       "      <td>0.01056</td>\n",
       "      <td>0.03715</td>\n",
       "      <td>0.334</td>\n",
       "      <td>...</td>\n",
       "      <td>0.02802</td>\n",
       "      <td>0.06097</td>\n",
       "      <td>0.00969</td>\n",
       "      <td>21.422</td>\n",
       "      <td>0.541781</td>\n",
       "      <td>0.821364</td>\n",
       "      <td>-4.438453</td>\n",
       "      <td>0.238298</td>\n",
       "      <td>1.922940</td>\n",
       "      <td>0.335041</td>\n",
       "    </tr>\n",
       "    <tr>\n",
       "      <th>141</th>\n",
       "      <td>208.083</td>\n",
       "      <td>253.792</td>\n",
       "      <td>91.802</td>\n",
       "      <td>0.00757</td>\n",
       "      <td>0.00004</td>\n",
       "      <td>0.00428</td>\n",
       "      <td>0.00428</td>\n",
       "      <td>0.01285</td>\n",
       "      <td>0.06725</td>\n",
       "      <td>0.571</td>\n",
       "      <td>...</td>\n",
       "      <td>0.04464</td>\n",
       "      <td>0.12047</td>\n",
       "      <td>0.04238</td>\n",
       "      <td>15.648</td>\n",
       "      <td>0.606344</td>\n",
       "      <td>0.665945</td>\n",
       "      <td>-5.410336</td>\n",
       "      <td>0.288917</td>\n",
       "      <td>2.665133</td>\n",
       "      <td>0.231723</td>\n",
       "    </tr>\n",
       "    <tr>\n",
       "      <th>170</th>\n",
       "      <td>244.990</td>\n",
       "      <td>272.210</td>\n",
       "      <td>239.170</td>\n",
       "      <td>0.00451</td>\n",
       "      <td>0.00002</td>\n",
       "      <td>0.00279</td>\n",
       "      <td>0.00237</td>\n",
       "      <td>0.00837</td>\n",
       "      <td>0.01897</td>\n",
       "      <td>0.181</td>\n",
       "      <td>...</td>\n",
       "      <td>0.01255</td>\n",
       "      <td>0.03253</td>\n",
       "      <td>0.01049</td>\n",
       "      <td>21.528</td>\n",
       "      <td>0.522812</td>\n",
       "      <td>0.646818</td>\n",
       "      <td>-7.304500</td>\n",
       "      <td>0.171088</td>\n",
       "      <td>2.095237</td>\n",
       "      <td>0.096220</td>\n",
       "    </tr>\n",
       "    <tr>\n",
       "      <th>65</th>\n",
       "      <td>228.969</td>\n",
       "      <td>239.541</td>\n",
       "      <td>113.201</td>\n",
       "      <td>0.00238</td>\n",
       "      <td>0.00001</td>\n",
       "      <td>0.00136</td>\n",
       "      <td>0.00140</td>\n",
       "      <td>0.00408</td>\n",
       "      <td>0.01745</td>\n",
       "      <td>0.154</td>\n",
       "      <td>...</td>\n",
       "      <td>0.01234</td>\n",
       "      <td>0.02827</td>\n",
       "      <td>0.00420</td>\n",
       "      <td>24.547</td>\n",
       "      <td>0.305429</td>\n",
       "      <td>0.681811</td>\n",
       "      <td>-7.314237</td>\n",
       "      <td>0.006274</td>\n",
       "      <td>2.118596</td>\n",
       "      <td>0.091546</td>\n",
       "    </tr>\n",
       "    <tr>\n",
       "      <th>66</th>\n",
       "      <td>140.341</td>\n",
       "      <td>159.774</td>\n",
       "      <td>67.021</td>\n",
       "      <td>0.00817</td>\n",
       "      <td>0.00006</td>\n",
       "      <td>0.00430</td>\n",
       "      <td>0.00440</td>\n",
       "      <td>0.01289</td>\n",
       "      <td>0.03198</td>\n",
       "      <td>0.313</td>\n",
       "      <td>...</td>\n",
       "      <td>0.02428</td>\n",
       "      <td>0.05490</td>\n",
       "      <td>0.02183</td>\n",
       "      <td>19.560</td>\n",
       "      <td>0.460139</td>\n",
       "      <td>0.720908</td>\n",
       "      <td>-5.409423</td>\n",
       "      <td>0.226850</td>\n",
       "      <td>2.359973</td>\n",
       "      <td>0.226156</td>\n",
       "    </tr>\n",
       "  </tbody>\n",
       "</table>\n",
       "<p>5 rows × 22 columns</p>\n",
       "</div>"
      ],
      "text/plain": [
       "     MDVP:Fo(Hz)  MDVP:Fhi(Hz)  MDVP:Flo(Hz)  MDVP:Jitter(%)  \\\n",
       "56       110.417       131.067       103.370         0.00784   \n",
       "141      208.083       253.792        91.802         0.00757   \n",
       "170      244.990       272.210       239.170         0.00451   \n",
       "65       228.969       239.541       113.201         0.00238   \n",
       "66       140.341       159.774        67.021         0.00817   \n",
       "\n",
       "     MDVP:Jitter(Abs)  MDVP:RAP  MDVP:PPQ  Jitter:DDP  MDVP:Shimmer  \\\n",
       "56            0.00007   0.00352   0.00514     0.01056       0.03715   \n",
       "141           0.00004   0.00428   0.00428     0.01285       0.06725   \n",
       "170           0.00002   0.00279   0.00237     0.00837       0.01897   \n",
       "65            0.00001   0.00136   0.00140     0.00408       0.01745   \n",
       "66            0.00006   0.00430   0.00440     0.01289       0.03198   \n",
       "\n",
       "     MDVP:Shimmer(dB)  ...  MDVP:APQ  Shimmer:DDA      NHR     HNR      RPDE  \\\n",
       "56              0.334  ...   0.02802      0.06097  0.00969  21.422  0.541781   \n",
       "141             0.571  ...   0.04464      0.12047  0.04238  15.648  0.606344   \n",
       "170             0.181  ...   0.01255      0.03253  0.01049  21.528  0.522812   \n",
       "65              0.154  ...   0.01234      0.02827  0.00420  24.547  0.305429   \n",
       "66              0.313  ...   0.02428      0.05490  0.02183  19.560  0.460139   \n",
       "\n",
       "          DFA   spread1   spread2        D2       PPE  \n",
       "56   0.821364 -4.438453  0.238298  1.922940  0.335041  \n",
       "141  0.665945 -5.410336  0.288917  2.665133  0.231723  \n",
       "170  0.646818 -7.304500  0.171088  2.095237  0.096220  \n",
       "65   0.681811 -7.314237  0.006274  2.118596  0.091546  \n",
       "66   0.720908 -5.409423  0.226850  2.359973  0.226156  \n",
       "\n",
       "[5 rows x 22 columns]"
      ]
     },
     "execution_count": 6,
     "metadata": {},
     "output_type": "execute_result"
    }
   ],
   "source": [
    "X_test.head()"
   ]
  },
  {
   "cell_type": "code",
   "execution_count": 7,
   "metadata": {},
   "outputs": [
    {
     "name": "stdout",
     "output_type": "stream",
     "text": [
      "[1. 1. 1. 0. 1. 1. 1. 1. 1. 1. 0. 1. 1. 1. 1. 0. 1. 1. 1. 1. 1. 1. 1. 1.\n",
      " 1. 1. 1. 1. 0. 0. 1. 1. 1. 1. 1. 1. 1. 1. 0.]\n"
     ]
    }
   ],
   "source": [
    "print(preds)"
   ]
  },
  {
   "cell_type": "code",
   "execution_count": 8,
   "metadata": {},
   "outputs": [
    {
     "name": "stdout",
     "output_type": "stream",
     "text": [
      "RMSE: 0.277350\n",
      "XGBoost model accuracy score: 92.3077\n"
     ]
    }
   ],
   "source": [
    "from sklearn.metrics import mean_squared_error\n",
    "rmse = np.sqrt(mean_squared_error(y_test, preds))\n",
    "print(\"RMSE: %f\" % (rmse))\n",
    "\n",
    "from sklearn.metrics import accuracy_score\n",
    "print('XGBoost model accuracy score: {0:0.4f}'. format(accuracy_score(y_test, preds)*100))"
   ]
  },
  {
   "cell_type": "code",
   "execution_count": 9,
   "metadata": {},
   "outputs": [
    {
     "data": {
      "image/png": "[encoded data removed]",
      "text/plain": [
       "<Figure size 432x288 with 1 Axes>"
      ]
     },
     "metadata": {
      "needs_background": "light"
     },
     "output_type": "display_data"
    }
   ],
   "source": [
    "import matplotlib.pyplot as plt\n",
    "xgb.plot_importance(xg_reg)\n",
    "plt.rcParams['figure.figsize'] = [14, 5]\n",
    "plt.show()"
   ]
  },
  {
   "cell_type": "code",
   "execution_count": null,
   "metadata": {},
   "outputs": [],
   "source": []
  },
  {
   "cell_type": "code",
   "execution_count": null,
   "metadata": {},
   "outputs": [],
   "source": []
  },
  {
   "cell_type": "code",
   "execution_count": null,
   "metadata": {},
   "outputs": [],
   "source": []
  }
 ],
 "metadata": {
  "kernelspec": {
   "display_name": "Python 3 (ipykernel)",
   "language": "python",
   "name": "python3"
  },
  "language_info": {
   "codemirror_mode": {
    "name": "ipython",
    "version": 3
   },
   "file_extension": ".py",
   "mimetype": "text/x-python",
   "name": "python",
   "nbconvert_exporter": "python",
   "pygments_lexer": "ipython3",
   "version": "3.9.6"
  }
 },
 "nbformat": 4,
 "nbformat_minor": 4
}
